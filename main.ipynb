{
 "metadata": {
  "language_info": {
   "codemirror_mode": {
    "name": "ipython",
    "version": 3
   },
   "file_extension": ".py",
   "mimetype": "text/x-python",
   "name": "python",
   "nbconvert_exporter": "python",
   "pygments_lexer": "ipython3",
   "version": "3.8.5-final"
  },
  "orig_nbformat": 2,
  "kernelspec": {
   "name": "python3",
   "display_name": "Python 3",
   "language": "python"
  }
 },
 "nbformat": 4,
 "nbformat_minor": 2,
 "cells": [
  {
   "cell_type": "code",
   "execution_count": 1,
   "metadata": {},
   "outputs": [],
   "source": [
    "import pandas as pd\n",
    "import numpy as np\n",
    "from sklearn.neighbors import NearestNeighbors\n",
    "import sklearn.metrics as metrics\n",
    "from sklearn.metrics.pairwise import cosine_similarity\n"
   ]
  },
  {
   "cell_type": "code",
   "execution_count": 2,
   "metadata": {
    "tags": []
   },
   "outputs": [
    {
     "output_type": "stream",
     "name": "stderr",
     "text": [
      "b'Skipping line 6452: expected 8 fields, saw 9\\nSkipping line 43667: expected 8 fields, saw 10\\nSkipping line 51751: expected 8 fields, saw 9\\n'\n",
      "b'Skipping line 92038: expected 8 fields, saw 9\\nSkipping line 104319: expected 8 fields, saw 9\\nSkipping line 121768: expected 8 fields, saw 9\\n'\n",
      "b'Skipping line 144058: expected 8 fields, saw 9\\nSkipping line 150789: expected 8 fields, saw 9\\nSkipping line 157128: expected 8 fields, saw 9\\nSkipping line 180189: expected 8 fields, saw 9\\nSkipping line 185738: expected 8 fields, saw 9\\n'\n",
      "b'Skipping line 209388: expected 8 fields, saw 9\\nSkipping line 220626: expected 8 fields, saw 9\\nSkipping line 227933: expected 8 fields, saw 11\\nSkipping line 228957: expected 8 fields, saw 10\\nSkipping line 245933: expected 8 fields, saw 9\\nSkipping line 251296: expected 8 fields, saw 9\\nSkipping line 259941: expected 8 fields, saw 9\\nSkipping line 261529: expected 8 fields, saw 9\\n'\n"
     ]
    }
   ],
   "source": [
    "books = pd.read_csv('csv/BX-Books.csv', error_bad_lines=False, sep=';')\n",
    "books.drop(['Image-URL-S', 'Image-URL-M', 'Image-URL-L'], axis=1, inplace=True)\n",
    "\n",
    "users = pd.read_csv('csv/BX-Users.csv', error_bad_lines=False, sep=';')\n",
    "\n",
    "ratings = pd.read_csv('csv/BX-Book-Ratings.csv', error_bad_lines=False, sep=';')\n"
   ]
  },
  {
   "cell_type": "code",
   "execution_count": 3,
   "metadata": {},
   "outputs": [
    {
     "output_type": "execute_result",
     "data": {
      "text/plain": [
       "array([2002, 2001, 1991, 1999, 2000, 1993, 1996, 1988, 2004, 1998, 1994,\n",
       "       2003, 1997, 1983, 1979, 1995, 1982, 1985, 1992, 1986, 1978, 1980,\n",
       "       1952, 1987, 1990, 1981, 1989, 1984, 0, 1968, 1961, 1958, 1974,\n",
       "       1976, 1971, 1977, 1975, 1965, 1941, 1970, 1962, 1973, 1972, 1960,\n",
       "       1966, 1920, 1956, 1959, 1953, 1951, 1942, 1963, 1964, 1969, 1954,\n",
       "       1950, 1967, 2005, 1957, 1940, 1937, 1955, 1946, 1936, 1930, 2011,\n",
       "       1925, 1948, 1943, 1947, 1945, 1923, 2020, 1939, 1926, 1938, 2030,\n",
       "       1911, 1904, 1949, 1932, 1928, 1929, 1927, 1931, 1914, 2050, 1934,\n",
       "       1910, 1933, 1902, 1924, 1921, 1900, 2038, 2026, 1944, 1917, 1901,\n",
       "       2010, 1908, 1906, 1935, 1806, 2021, '2000', '1995', '1999', '2004',\n",
       "       '2003', '1990', '1994', '1986', '1989', '2002', '1981', '1993',\n",
       "       '1983', '1982', '1976', '1991', '1977', '1998', '1992', '1996',\n",
       "       '0', '1997', '2001', '1974', '1968', '1987', '1984', '1988',\n",
       "       '1963', '1956', '1970', '1985', '1978', '1973', '1980', '1979',\n",
       "       '1975', '1969', '1961', '1965', '1939', '1958', '1950', '1953',\n",
       "       '1966', '1971', '1959', '1972', '1955', '1957', '1945', '1960',\n",
       "       '1967', '1932', '1924', '1964', '2012', '1911', '1927', '1948',\n",
       "       '1962', '2006', '1952', '1940', '1951', '1931', '1954', '2005',\n",
       "       '1930', '1941', '1944', 'DK Publishing Inc', '1943', '1938',\n",
       "       '1900', '1942', '1923', '1920', '1933', 'Gallimard', '1909',\n",
       "       '1946', '2008', '1378', '2030', '1936', '1947', '2011', '2020',\n",
       "       '1919', '1949', '1922', '1897', '2024', '1376', '1926', '2037'],\n",
       "      dtype=object)"
      ]
     },
     "metadata": {},
     "execution_count": 3
    }
   ],
   "source": [
    "books['Year-Of-Publication'].unique()"
   ]
  },
  {
   "cell_type": "code",
   "execution_count": 4,
   "metadata": {},
   "outputs": [],
   "source": [
    "books.loc[books.ISBN == '0789466953','Year-Of-Publication'] = 2000\n",
    "books.loc[books.ISBN == '0789466953','Book-Author'] = \"James Buckley\"\n",
    "books.loc[books.ISBN == '0789466953','Publisher'] = \"DK Publishing Inc\"\n",
    "books.loc[books.ISBN == '0789466953','Book-Title'] = \"DK Readers: Creating the X-Men, How Comic Books Come to Life (Level 4: Proficient Readers)\"\n",
    "books.loc[books.ISBN == '078946697X','Year-Of-Publication'] = 2000\n",
    "books.loc[books.ISBN == '078946697X','Book-Author'] = \"Michael Teitelbaum\"\n",
    "books.loc[books.ISBN == '078946697X','Publisher'] = \"DK Publishing Inc\"\n",
    "books.loc[books.ISBN == '078946697X','Book-Title'] = \"DK Readers: Creating the X-Men, How It All Began (Level 4: Proficient Readers)\"\n",
    "books.loc[books.ISBN == '2070426769','Year-Of-Publication'] = 2003\n",
    "books.loc[books.ISBN == '2070426769','Book-Author'] = \"Jean-Marie Gustave Le ClÃ?Â©zio\"\n",
    "books.loc[books.ISBN == '2070426769','Publisher'] = \"Gallimard\"\n",
    "books.loc[books.ISBN == '2070426769','Book-Title'] = \"Peuple du ciel, suivi de 'Les Bergers\"\n",
    "\n",
    "books['Year-Of-Publication']=pd.to_numeric(books['Year-Of-Publication'], errors='coerce')\n",
    "books.loc[(books['Year-Of-Publication'] > 2020) | (books['Year-Of-Publication'] == 0),'Year-Of-Publication'] = np.NAN\n",
    "books['Year-Of-Publication'].fillna(round(books['Year-Of-Publication'].mean()), inplace=True)\n",
    "books['Year-Of-Publication'] = books['Year-Of-Publication'].astype(np.int32)"
   ]
  },
  {
   "cell_type": "code",
   "execution_count": 5,
   "metadata": {},
   "outputs": [
    {
     "output_type": "execute_result",
     "data": {
      "text/plain": [
       "   User-ID        ISBN  Book-Rating\n",
       "0   276725  034545104X            0\n",
       "1   276726  0155061224            5\n",
       "2   276727  0446520802            0\n",
       "3   276729  052165615X            3\n",
       "4   276729  0521795028            6"
      ],
      "text/html": "<div>\n<style scoped>\n    .dataframe tbody tr th:only-of-type {\n        vertical-align: middle;\n    }\n\n    .dataframe tbody tr th {\n        vertical-align: top;\n    }\n\n    .dataframe thead th {\n        text-align: right;\n    }\n</style>\n<table border=\"1\" class=\"dataframe\">\n  <thead>\n    <tr style=\"text-align: right;\">\n      <th></th>\n      <th>User-ID</th>\n      <th>ISBN</th>\n      <th>Book-Rating</th>\n    </tr>\n  </thead>\n  <tbody>\n    <tr>\n      <th>0</th>\n      <td>276725</td>\n      <td>034545104X</td>\n      <td>0</td>\n    </tr>\n    <tr>\n      <th>1</th>\n      <td>276726</td>\n      <td>0155061224</td>\n      <td>5</td>\n    </tr>\n    <tr>\n      <th>2</th>\n      <td>276727</td>\n      <td>0446520802</td>\n      <td>0</td>\n    </tr>\n    <tr>\n      <th>3</th>\n      <td>276729</td>\n      <td>052165615X</td>\n      <td>3</td>\n    </tr>\n    <tr>\n      <th>4</th>\n      <td>276729</td>\n      <td>0521795028</td>\n      <td>6</td>\n    </tr>\n  </tbody>\n</table>\n</div>"
     },
     "metadata": {},
     "execution_count": 5
    }
   ],
   "source": [
    "ratings.head()"
   ]
  },
  {
   "source": [],
   "cell_type": "markdown",
   "metadata": {}
  },
  {
   "cell_type": "code",
   "execution_count": 6,
   "metadata": {},
   "outputs": [],
   "source": [
    "users.loc[(users['Age'] > 100) | (users['Age'] < 5), 'Age'] = np.nan\n",
    "users['Age'] = users['Age'].fillna(users['Age'].mean())\n",
    "users['Age'] = users['Age'].astype(np.int32)\n"
   ]
  },
  {
   "cell_type": "code",
   "execution_count": 7,
   "metadata": {},
   "outputs": [],
   "source": [
    "ratings_new = ratings[ratings['ISBN'].isin(books['ISBN'])]"
   ]
  },
  {
   "cell_type": "code",
   "execution_count": 8,
   "metadata": {},
   "outputs": [
    {
     "output_type": "execute_result",
     "data": {
      "text/plain": [
       "0.9999863734155897"
      ]
     },
     "metadata": {},
     "execution_count": 8
    }
   ],
   "source": [
    "n_users = users.shape[0]\n",
    "n_books = books.shape[0]\n",
    "1.0-len(ratings_new)/float(n_users*n_books)"
   ]
  },
  {
   "cell_type": "code",
   "execution_count": 9,
   "metadata": {},
   "outputs": [],
   "source": [
    "ratings_implicit = ratings_new[ratings_new['Book-Rating'] == 0]\n",
    "ratings_explicit = ratings_new[ratings_new['Book-Rating'] != 0]\n"
   ]
  },
  {
   "cell_type": "code",
   "execution_count": 10,
   "metadata": {},
   "outputs": [],
   "source": [
    "counts1 = ratings_explicit['User-ID'].value_counts()\n",
    "ratings_explicit = ratings_explicit[ratings_explicit['User-ID'].isin(counts1[counts1 >= 100].index)]\n",
    "counts = ratings_explicit['Book-Rating'].value_counts()\n",
    "ratings_explicit = ratings_explicit[ratings_explicit['Book-Rating'].isin(counts[counts >= 100].index)]"
   ]
  },
  {
   "cell_type": "code",
   "execution_count": 11,
   "metadata": {},
   "outputs": [
    {
     "output_type": "stream",
     "name": "stdout",
     "text": [
      "(449, 66574)\n"
     ]
    },
    {
     "output_type": "execute_result",
     "data": {
      "text/plain": [
       "ISBN     0000913154  0001046438  000104687X  0001047213  0001047973  \\\n",
       "User-ID                                                               \n",
       "2033            NaN         NaN         NaN         NaN         NaN   \n",
       "2110            NaN         NaN         NaN         NaN         NaN   \n",
       "2276            NaN         NaN         NaN         NaN         NaN   \n",
       "4017            NaN         NaN         NaN         NaN         NaN   \n",
       "4385            NaN         NaN         NaN         NaN         NaN   \n",
       "...             ...         ...         ...         ...         ...   \n",
       "274061          NaN         NaN         NaN         NaN         NaN   \n",
       "274301          NaN         NaN         NaN         NaN         NaN   \n",
       "275970          NaN         NaN         NaN         NaN         NaN   \n",
       "277427          NaN         NaN         NaN         NaN         NaN   \n",
       "278418          NaN         NaN         NaN         NaN         NaN   \n",
       "\n",
       "ISBN     000104799X  0001048082  0001053736  0001053744  0001055607  ...  \\\n",
       "User-ID                                                              ...   \n",
       "2033            NaN         NaN         NaN         NaN         NaN  ...   \n",
       "2110            NaN         NaN         NaN         NaN         NaN  ...   \n",
       "2276            NaN         NaN         NaN         NaN         NaN  ...   \n",
       "4017            NaN         NaN         NaN         NaN         NaN  ...   \n",
       "4385            NaN         NaN         NaN         NaN         NaN  ...   \n",
       "...             ...         ...         ...         ...         ...  ...   \n",
       "274061          NaN         NaN         NaN         NaN         NaN  ...   \n",
       "274301          NaN         NaN         NaN         NaN         NaN  ...   \n",
       "275970          NaN         NaN         NaN         NaN         NaN  ...   \n",
       "277427          NaN         NaN         NaN         NaN         NaN  ...   \n",
       "278418          NaN         NaN         NaN         NaN         NaN  ...   \n",
       "\n",
       "ISBN     B000092Q0A  B00009EF82  B00009NDAN  B0000DYXID  B0000T6KHI  \\\n",
       "User-ID                                                               \n",
       "2033            NaN         NaN         NaN         NaN         NaN   \n",
       "2110            NaN         NaN         NaN         NaN         NaN   \n",
       "2276            NaN         NaN         NaN         NaN         NaN   \n",
       "4017            NaN         NaN         NaN         NaN         NaN   \n",
       "4385            NaN         NaN         NaN         NaN         NaN   \n",
       "...             ...         ...         ...         ...         ...   \n",
       "274061          NaN         NaN         NaN         NaN         NaN   \n",
       "274301          NaN         NaN        10.0         NaN         NaN   \n",
       "275970          NaN         NaN         NaN         NaN         NaN   \n",
       "277427          NaN         NaN         NaN         NaN         NaN   \n",
       "278418          NaN         NaN         NaN         NaN         NaN   \n",
       "\n",
       "ISBN     B0000VZEJQ  B0000X8HIE  B00013AX9E  B0001I1KOG  B000234N3A  \n",
       "User-ID                                                              \n",
       "2033            NaN         NaN         NaN         NaN         NaN  \n",
       "2110            NaN         NaN         NaN         NaN         NaN  \n",
       "2276            NaN         NaN         NaN         NaN         NaN  \n",
       "4017            NaN         NaN         NaN         NaN         NaN  \n",
       "4385            NaN         NaN         NaN         NaN         NaN  \n",
       "...             ...         ...         ...         ...         ...  \n",
       "274061          NaN         NaN         NaN         NaN         NaN  \n",
       "274301          NaN         NaN         NaN         NaN         NaN  \n",
       "275970          NaN         NaN         NaN         NaN         NaN  \n",
       "277427          NaN         NaN         NaN         NaN         NaN  \n",
       "278418          NaN         NaN         NaN         NaN         NaN  \n",
       "\n",
       "[449 rows x 66574 columns]"
      ],
      "text/html": "<div>\n<style scoped>\n    .dataframe tbody tr th:only-of-type {\n        vertical-align: middle;\n    }\n\n    .dataframe tbody tr th {\n        vertical-align: top;\n    }\n\n    .dataframe thead th {\n        text-align: right;\n    }\n</style>\n<table border=\"1\" class=\"dataframe\">\n  <thead>\n    <tr style=\"text-align: right;\">\n      <th>ISBN</th>\n      <th>0000913154</th>\n      <th>0001046438</th>\n      <th>000104687X</th>\n      <th>0001047213</th>\n      <th>0001047973</th>\n      <th>000104799X</th>\n      <th>0001048082</th>\n      <th>0001053736</th>\n      <th>0001053744</th>\n      <th>0001055607</th>\n      <th>...</th>\n      <th>B000092Q0A</th>\n      <th>B00009EF82</th>\n      <th>B00009NDAN</th>\n      <th>B0000DYXID</th>\n      <th>B0000T6KHI</th>\n      <th>B0000VZEJQ</th>\n      <th>B0000X8HIE</th>\n      <th>B00013AX9E</th>\n      <th>B0001I1KOG</th>\n      <th>B000234N3A</th>\n    </tr>\n    <tr>\n      <th>User-ID</th>\n      <th></th>\n      <th></th>\n      <th></th>\n      <th></th>\n      <th></th>\n      <th></th>\n      <th></th>\n      <th></th>\n      <th></th>\n      <th></th>\n      <th></th>\n      <th></th>\n      <th></th>\n      <th></th>\n      <th></th>\n      <th></th>\n      <th></th>\n      <th></th>\n      <th></th>\n      <th></th>\n      <th></th>\n    </tr>\n  </thead>\n  <tbody>\n    <tr>\n      <th>2033</th>\n      <td>NaN</td>\n      <td>NaN</td>\n      <td>NaN</td>\n      <td>NaN</td>\n      <td>NaN</td>\n      <td>NaN</td>\n      <td>NaN</td>\n      <td>NaN</td>\n      <td>NaN</td>\n      <td>NaN</td>\n      <td>...</td>\n      <td>NaN</td>\n      <td>NaN</td>\n      <td>NaN</td>\n      <td>NaN</td>\n      <td>NaN</td>\n      <td>NaN</td>\n      <td>NaN</td>\n      <td>NaN</td>\n      <td>NaN</td>\n      <td>NaN</td>\n    </tr>\n    <tr>\n      <th>2110</th>\n      <td>NaN</td>\n      <td>NaN</td>\n      <td>NaN</td>\n      <td>NaN</td>\n      <td>NaN</td>\n      <td>NaN</td>\n      <td>NaN</td>\n      <td>NaN</td>\n      <td>NaN</td>\n      <td>NaN</td>\n      <td>...</td>\n      <td>NaN</td>\n      <td>NaN</td>\n      <td>NaN</td>\n      <td>NaN</td>\n      <td>NaN</td>\n      <td>NaN</td>\n      <td>NaN</td>\n      <td>NaN</td>\n      <td>NaN</td>\n      <td>NaN</td>\n    </tr>\n    <tr>\n      <th>2276</th>\n      <td>NaN</td>\n      <td>NaN</td>\n      <td>NaN</td>\n      <td>NaN</td>\n      <td>NaN</td>\n      <td>NaN</td>\n      <td>NaN</td>\n      <td>NaN</td>\n      <td>NaN</td>\n      <td>NaN</td>\n      <td>...</td>\n      <td>NaN</td>\n      <td>NaN</td>\n      <td>NaN</td>\n      <td>NaN</td>\n      <td>NaN</td>\n      <td>NaN</td>\n      <td>NaN</td>\n      <td>NaN</td>\n      <td>NaN</td>\n      <td>NaN</td>\n    </tr>\n    <tr>\n      <th>4017</th>\n      <td>NaN</td>\n      <td>NaN</td>\n      <td>NaN</td>\n      <td>NaN</td>\n      <td>NaN</td>\n      <td>NaN</td>\n      <td>NaN</td>\n      <td>NaN</td>\n      <td>NaN</td>\n      <td>NaN</td>\n      <td>...</td>\n      <td>NaN</td>\n      <td>NaN</td>\n      <td>NaN</td>\n      <td>NaN</td>\n      <td>NaN</td>\n      <td>NaN</td>\n      <td>NaN</td>\n      <td>NaN</td>\n      <td>NaN</td>\n      <td>NaN</td>\n    </tr>\n    <tr>\n      <th>4385</th>\n      <td>NaN</td>\n      <td>NaN</td>\n      <td>NaN</td>\n      <td>NaN</td>\n      <td>NaN</td>\n      <td>NaN</td>\n      <td>NaN</td>\n      <td>NaN</td>\n      <td>NaN</td>\n      <td>NaN</td>\n      <td>...</td>\n      <td>NaN</td>\n      <td>NaN</td>\n      <td>NaN</td>\n      <td>NaN</td>\n      <td>NaN</td>\n      <td>NaN</td>\n      <td>NaN</td>\n      <td>NaN</td>\n      <td>NaN</td>\n      <td>NaN</td>\n    </tr>\n    <tr>\n      <th>...</th>\n      <td>...</td>\n      <td>...</td>\n      <td>...</td>\n      <td>...</td>\n      <td>...</td>\n      <td>...</td>\n      <td>...</td>\n      <td>...</td>\n      <td>...</td>\n      <td>...</td>\n      <td>...</td>\n      <td>...</td>\n      <td>...</td>\n      <td>...</td>\n      <td>...</td>\n      <td>...</td>\n      <td>...</td>\n      <td>...</td>\n      <td>...</td>\n      <td>...</td>\n      <td>...</td>\n    </tr>\n    <tr>\n      <th>274061</th>\n      <td>NaN</td>\n      <td>NaN</td>\n      <td>NaN</td>\n      <td>NaN</td>\n      <td>NaN</td>\n      <td>NaN</td>\n      <td>NaN</td>\n      <td>NaN</td>\n      <td>NaN</td>\n      <td>NaN</td>\n      <td>...</td>\n      <td>NaN</td>\n      <td>NaN</td>\n      <td>NaN</td>\n      <td>NaN</td>\n      <td>NaN</td>\n      <td>NaN</td>\n      <td>NaN</td>\n      <td>NaN</td>\n      <td>NaN</td>\n      <td>NaN</td>\n    </tr>\n    <tr>\n      <th>274301</th>\n      <td>NaN</td>\n      <td>NaN</td>\n      <td>NaN</td>\n      <td>NaN</td>\n      <td>NaN</td>\n      <td>NaN</td>\n      <td>NaN</td>\n      <td>NaN</td>\n      <td>NaN</td>\n      <td>NaN</td>\n      <td>...</td>\n      <td>NaN</td>\n      <td>NaN</td>\n      <td>10.0</td>\n      <td>NaN</td>\n      <td>NaN</td>\n      <td>NaN</td>\n      <td>NaN</td>\n      <td>NaN</td>\n      <td>NaN</td>\n      <td>NaN</td>\n    </tr>\n    <tr>\n      <th>275970</th>\n      <td>NaN</td>\n      <td>NaN</td>\n      <td>NaN</td>\n      <td>NaN</td>\n      <td>NaN</td>\n      <td>NaN</td>\n      <td>NaN</td>\n      <td>NaN</td>\n      <td>NaN</td>\n      <td>NaN</td>\n      <td>...</td>\n      <td>NaN</td>\n      <td>NaN</td>\n      <td>NaN</td>\n      <td>NaN</td>\n      <td>NaN</td>\n      <td>NaN</td>\n      <td>NaN</td>\n      <td>NaN</td>\n      <td>NaN</td>\n      <td>NaN</td>\n    </tr>\n    <tr>\n      <th>277427</th>\n      <td>NaN</td>\n      <td>NaN</td>\n      <td>NaN</td>\n      <td>NaN</td>\n      <td>NaN</td>\n      <td>NaN</td>\n      <td>NaN</td>\n      <td>NaN</td>\n      <td>NaN</td>\n      <td>NaN</td>\n      <td>...</td>\n      <td>NaN</td>\n      <td>NaN</td>\n      <td>NaN</td>\n      <td>NaN</td>\n      <td>NaN</td>\n      <td>NaN</td>\n      <td>NaN</td>\n      <td>NaN</td>\n      <td>NaN</td>\n      <td>NaN</td>\n    </tr>\n    <tr>\n      <th>278418</th>\n      <td>NaN</td>\n      <td>NaN</td>\n      <td>NaN</td>\n      <td>NaN</td>\n      <td>NaN</td>\n      <td>NaN</td>\n      <td>NaN</td>\n      <td>NaN</td>\n      <td>NaN</td>\n      <td>NaN</td>\n      <td>...</td>\n      <td>NaN</td>\n      <td>NaN</td>\n      <td>NaN</td>\n      <td>NaN</td>\n      <td>NaN</td>\n      <td>NaN</td>\n      <td>NaN</td>\n      <td>NaN</td>\n      <td>NaN</td>\n      <td>NaN</td>\n    </tr>\n  </tbody>\n</table>\n<p>449 rows × 66574 columns</p>\n</div>"
     },
     "metadata": {},
     "execution_count": 11
    }
   ],
   "source": [
    "ratings_matrix = ratings_explicit.pivot(index='User-ID', columns='ISBN', values='Book-Rating')\n",
    "userID = ratings_matrix.index\n",
    "ISBN = ratings_matrix.columns\n",
    "print(ratings_matrix.shape)\n",
    "ratings_matrix"
   ]
  },
  {
   "cell_type": "code",
   "execution_count": 12,
   "metadata": {},
   "outputs": [],
   "source": [
    "ratings_matrix.fillna(0, inplace = True)\n",
    "ratings_matrix = ratings_matrix.astype(np.int32)"
   ]
  },
  {
   "cell_type": "code",
   "execution_count": 13,
   "metadata": {
    "tags": []
   },
   "outputs": [
    {
     "output_type": "stream",
     "name": "stdout",
     "text": [
      "7 0030020786\n",
      "10 0060248025\n",
      "10 0060256664\n",
      "10 0060256737\n",
      "10 0060950536\n",
      "7 0061020419\n",
      "6 0061020427\n",
      "10 0061056278\n",
      "8 0061056286\n",
      "9 0061056294\n",
      "7 0061059773\n",
      "10 0133502813\n",
      "8 0140386645\n",
      "10 0142000663\n",
      "7 0142500135\n",
      "6 0192800493\n",
      "10 0201632721\n",
      "8 0312921098\n",
      "9 0316542377\n",
      "10 0316779032\n",
      "10 0316779059\n",
      "5 0345337662\n",
      "10 0345340426\n",
      "10 0375815260\n",
      "10 0380775123\n",
      "6 0399523308\n",
      "9 0439064864\n",
      "9 0439136350\n",
      "9 0439139597\n",
      "9 043935806X\n",
      "7 0441004997\n",
      "10 0451456718\n",
      "10 0451456734\n",
      "8 0451457781\n",
      "10 0451458028\n",
      "10 0451458508\n",
      "10 0451458990\n",
      "10 0451459423\n",
      "10 0452279089\n",
      "10 0471485527\n",
      "6 051513628X\n",
      "10 0553379534\n",
      "8 0553573136\n",
      "9 0590353403\n",
      "2 0595006035\n",
      "2 0595093019\n",
      "10 0671025554\n",
      "10 0671027441\n",
      "10 0671519751\n",
      "6 0671524313\n",
      "10 0671676253\n",
      "7 0688117619\n",
      "8 0688149790\n",
      "10 0688161162\n",
      "7 0698119509\n",
      "7 0716723980\n",
      "7 0716724022\n",
      "7 0764550039\n",
      "10 0765342987\n",
      "10 0765345048\n",
      "8 0786861320\n",
      "8 0786880007\n",
      "9 0812090381\n",
      "7 0812500865\n",
      "10 0812516850\n",
      "10 0812520157\n",
      "10 0812521358\n",
      "10 0812523040\n",
      "10 0812523679\n",
      "10 0812532554\n",
      "8 0812532597\n",
      "8 0812532619\n",
      "8 0812532635\n",
      "8 0812532961\n",
      "8 0812532988\n",
      "10 0812533313\n",
      "10 0812533550\n",
      "9 0812533577\n",
      "10 0812533658\n",
      "7 0812535219\n",
      "10 0812575717\n",
      "10 0836204387\n",
      "9 0836218256\n",
      "10 0836218787\n",
      "10 0836220889\n",
      "10 0836221362\n",
      "9 0874936225\n",
      "10 0875962432\n",
      "5 0880887575\n",
      "8 0882710583\n",
      "10 0886773776\n",
      "10 0886773784\n",
      "10 0886774004\n",
      "9 0886774012\n",
      "10 0886774144\n",
      "10 0886774543\n",
      "10 0886774632\n",
      "10 0886775035\n",
      "5 0886775043\n",
      "8 0886775167\n",
      "9 0886775205\n",
      "9 0886775493\n",
      "8 0886775639\n",
      "10 0886775876\n",
      "8 0886776120\n",
      "9 0886776589\n",
      "9 0886776619\n",
      "8 0886777011\n",
      "8 0886777127\n",
      "9 0886777151\n",
      "10 0886777208\n",
      "8 0886777550\n",
      "8 0886777593\n",
      "10 0886777739\n",
      "10 0886778603\n",
      "8 0889652066\n",
      "9 0894716174\n",
      "5 0895295458\n",
      "6 0895779129\n",
      "10 0912500522\n",
      "10 0912500867\n",
      "10 0920668372\n",
      "10 0965921506\n",
      "10 0965987302\n",
      "10 1556432151\n",
      "9 1558506438\n",
      "7 1559274581\n",
      "7 156305700X\n",
      "10 1891400495\n"
     ]
    }
   ],
   "source": [
    "asd = ratings_matrix.loc[2033]\n",
    "for i in range(len(list(asd))):\n",
    "    if asd[i] != 0:\n",
    "        print(asd[i], ratings_matrix.columns[i])"
   ]
  },
  {
   "cell_type": "code",
   "execution_count": 18,
   "metadata": {},
   "outputs": [],
   "source": [
    "def findksimilaritems(item_id, ratings, metric=metric, k=k):\n",
    "    similarities=[]\n",
    "    indices=[]\n",
    "    ratings=ratings.T\n",
    "    loc = ratings.index.get_loc(item_id)\n",
    "    model_knn = NearestNeighbors(metric = metric, algorithm = 'brute')\n",
    "    model_knn.fit(ratings)\n",
    "    \n",
    "    distances, indices = model_knn.kneighbors(ratings.iloc[loc, :].values.reshape(1, -1), n_neighbors = k+1)\n",
    "    similarities = 1-distances.flatten()\n",
    "\n",
    "    return similarities,indices\n",
    "\n",
    "def predict_itembased(user_id, item_id, ratings, metric = metric, k=k):\n",
    "    prediction= wtd_sum =0\n",
    "    user_loc = ratings.index.get_loc(user_id)\n",
    "    item_loc = ratings.columns.get_loc(item_id)\n",
    "    similarities, indices=findksimilaritems(item_id, ratings) #similar users based on correlation coefficients\n",
    "    sum_wt = np.sum(similarities)-1\n",
    "    product=1\n",
    "    for i in range(0, len(indices.flatten())):\n",
    "        if indices.flatten()[i] == item_loc:\n",
    "            continue\n",
    "        else:\n",
    "            product = ratings.iloc[user_loc,indices.flatten()[i]] * (similarities[i])\n",
    "            wtd_sum = wtd_sum + product                              \n",
    "    prediction = int(round(wtd_sum/sum_wt))\n",
    "    \n",
    "    #in case of very sparse datasets, using correlation metric for collaborative based approach may give negative ratings\n",
    "    #which are handled here as below //code has been validated without the code snippet below, below snippet is to avoid negative\n",
    "    #predictions which might arise in case of very sparse datasets when using correlation metric\n",
    "    if prediction <= 0:\n",
    "        prediction = 1   \n",
    "    elif prediction >10:\n",
    "        prediction = 10\n",
    "\n",
    "    print ('\\nPredicted rating for user {0} -> item {1}: {2}'.format(user_id,item_id,prediction))   \n",
    "    \n",
    "    return prediction"
   ]
  },
  {
   "cell_type": "code",
   "execution_count": 19,
   "metadata": {},
   "outputs": [
    {
     "output_type": "stream",
     "name": "stdout",
     "text": [
      "\nPredicted rating for user 2033 -> item 0060248025: 4\n"
     ]
    }
   ],
   "source": [
    "k=20\n",
    "metric='correlation'\n",
    "prediction = predict_itembased(2033,'0060248025',ratings_matrix)"
   ]
  },
  {
   "cell_type": "code",
   "execution_count": 21,
   "metadata": {},
   "outputs": [
    {
     "output_type": "execute_result",
     "data": {
      "text/plain": [
       "array([[0.        , 1.        , 0.95099824, ..., 1.        , 1.        ,\n",
       "        1.        ],\n",
       "       [1.        , 0.        , 1.        , ..., 1.        , 1.        ,\n",
       "        1.        ],\n",
       "       [0.95099824, 1.        , 0.        , ..., 1.        , 1.        ,\n",
       "        1.        ],\n",
       "       ...,\n",
       "       [1.        , 1.        , 1.        , ..., 0.        , 0.99338011,\n",
       "        1.        ],\n",
       "       [1.        , 1.        , 1.        , ..., 0.99338011, 0.        ,\n",
       "        1.        ],\n",
       "       [1.        , 1.        , 1.        , ..., 1.        , 1.        ,\n",
       "        0.        ]])"
      ]
     },
     "metadata": {},
     "execution_count": 21
    }
   ],
   "source": [
    "from scipy.spatial.distance import pdist,squareform\n",
    "squareform(pdist(ratings_matrix, metric='cosine'))"
   ]
  },
  {
   "cell_type": "code",
   "execution_count": 31,
   "metadata": {},
   "outputs": [
    {
     "output_type": "execute_result",
     "data": {
      "text/plain": [
       "array([[1.        , 0.        , 0.04900176, ..., 0.        , 0.        ,\n",
       "        0.        ],\n",
       "       [0.        , 1.        , 0.        , ..., 0.        , 0.        ,\n",
       "        0.        ],\n",
       "       [0.04900176, 0.        , 1.        , ..., 0.        , 0.        ,\n",
       "        0.        ],\n",
       "       ...,\n",
       "       [0.        , 0.        , 0.        , ..., 1.        , 0.00661989,\n",
       "        0.        ],\n",
       "       [0.        , 0.        , 0.        , ..., 0.00661989, 1.        ,\n",
       "        0.        ],\n",
       "       [0.        , 0.        , 0.        , ..., 0.        , 0.        ,\n",
       "        1.        ]])"
      ]
     },
     "metadata": {},
     "execution_count": 31
    }
   ],
   "source": [
    "cosine_similarity(ratings_matrix)\n",
    "import matplotlib.pyplot as plt\n"
   ]
  },
  {
   "cell_type": "code",
   "execution_count": 32,
   "metadata": {},
   "outputs": [
    {
     "output_type": "execute_result",
     "data": {
      "text/plain": [
       "array([[ 1.        , -0.00167007,  0.04681143, ..., -0.00197429,\n",
       "        -0.00200219, -0.0016626 ],\n",
       "       [-0.00167007,  1.        , -0.0020535 , ..., -0.00175832,\n",
       "        -0.00178316, -0.00148072],\n",
       "       [ 0.04681143, -0.0020535 ,  1.        , ..., -0.00242757,\n",
       "        -0.00246187, -0.00204431],\n",
       "       ...,\n",
       "       [-0.00197429, -0.00175832, -0.00242757, ...,  1.        ,\n",
       "         0.00452585, -0.00175045],\n",
       "       [-0.00200219, -0.00178316, -0.00246187, ...,  0.00452585,\n",
       "         1.        , -0.00177519],\n",
       "       [-0.0016626 , -0.00148072, -0.00204431, ..., -0.00175045,\n",
       "        -0.00177519,  1.        ]])"
      ]
     },
     "metadata": {},
     "execution_count": 32
    }
   ],
   "source": [
    "np.corrcoef(ratings_matrix)"
   ]
  },
  {
   "cell_type": "code",
   "execution_count": 33,
   "metadata": {},
   "outputs": [
    {
     "output_type": "error",
     "ename": "MemoryError",
     "evalue": "Unable to allocate 33.0 GiB for an array with shape (66574, 66574) and data type float64",
     "traceback": [
      "\u001b[0;31m---------------------------------------------------------------------------\u001b[0m",
      "\u001b[0;31mMemoryError\u001b[0m                               Traceback (most recent call last)",
      "\u001b[0;32m<ipython-input-33-c165e2ff28d4>\u001b[0m in \u001b[0;36m<module>\u001b[0;34m\u001b[0m\n\u001b[0;32m----> 1\u001b[0;31m \u001b[0mnp\u001b[0m\u001b[0;34m.\u001b[0m\u001b[0mcorrcoef\u001b[0m\u001b[0;34m(\u001b[0m\u001b[0mratings_matrix\u001b[0m\u001b[0;34m.\u001b[0m\u001b[0mT\u001b[0m\u001b[0;34m)\u001b[0m\u001b[0;34m\u001b[0m\u001b[0;34m\u001b[0m\u001b[0m\n\u001b[0m",
      "\u001b[0;32m<__array_function__ internals>\u001b[0m in \u001b[0;36mcorrcoef\u001b[0;34m(*args, **kwargs)\u001b[0m\n",
      "\u001b[0;32m~/code/book-recommendation-system/venv/lib/python3.8/site-packages/numpy/lib/function_base.py\u001b[0m in \u001b[0;36mcorrcoef\u001b[0;34m(x, y, rowvar, bias, ddof)\u001b[0m\n\u001b[1;32m   2549\u001b[0m         warnings.warn('bias and ddof have no effect and are deprecated',\n\u001b[1;32m   2550\u001b[0m                       DeprecationWarning, stacklevel=3)\n\u001b[0;32m-> 2551\u001b[0;31m     \u001b[0mc\u001b[0m \u001b[0;34m=\u001b[0m \u001b[0mcov\u001b[0m\u001b[0;34m(\u001b[0m\u001b[0mx\u001b[0m\u001b[0;34m,\u001b[0m \u001b[0my\u001b[0m\u001b[0;34m,\u001b[0m \u001b[0mrowvar\u001b[0m\u001b[0;34m)\u001b[0m\u001b[0;34m\u001b[0m\u001b[0;34m\u001b[0m\u001b[0m\n\u001b[0m\u001b[1;32m   2552\u001b[0m     \u001b[0;32mtry\u001b[0m\u001b[0;34m:\u001b[0m\u001b[0;34m\u001b[0m\u001b[0;34m\u001b[0m\u001b[0m\n\u001b[1;32m   2553\u001b[0m         \u001b[0md\u001b[0m \u001b[0;34m=\u001b[0m \u001b[0mdiag\u001b[0m\u001b[0;34m(\u001b[0m\u001b[0mc\u001b[0m\u001b[0;34m)\u001b[0m\u001b[0;34m\u001b[0m\u001b[0;34m\u001b[0m\u001b[0m\n",
      "\u001b[0;32m<__array_function__ internals>\u001b[0m in \u001b[0;36mcov\u001b[0;34m(*args, **kwargs)\u001b[0m\n",
      "\u001b[0;32m~/code/book-recommendation-system/venv/lib/python3.8/site-packages/numpy/lib/function_base.py\u001b[0m in \u001b[0;36mcov\u001b[0;34m(m, y, rowvar, bias, ddof, fweights, aweights)\u001b[0m\n\u001b[1;32m   2477\u001b[0m     \u001b[0;32melse\u001b[0m\u001b[0;34m:\u001b[0m\u001b[0;34m\u001b[0m\u001b[0;34m\u001b[0m\u001b[0m\n\u001b[1;32m   2478\u001b[0m         \u001b[0mX_T\u001b[0m \u001b[0;34m=\u001b[0m \u001b[0;34m(\u001b[0m\u001b[0mX\u001b[0m\u001b[0;34m*\u001b[0m\u001b[0mw\u001b[0m\u001b[0;34m)\u001b[0m\u001b[0;34m.\u001b[0m\u001b[0mT\u001b[0m\u001b[0;34m\u001b[0m\u001b[0;34m\u001b[0m\u001b[0m\n\u001b[0;32m-> 2479\u001b[0;31m     \u001b[0mc\u001b[0m \u001b[0;34m=\u001b[0m \u001b[0mdot\u001b[0m\u001b[0;34m(\u001b[0m\u001b[0mX\u001b[0m\u001b[0;34m,\u001b[0m \u001b[0mX_T\u001b[0m\u001b[0;34m.\u001b[0m\u001b[0mconj\u001b[0m\u001b[0;34m(\u001b[0m\u001b[0;34m)\u001b[0m\u001b[0;34m)\u001b[0m\u001b[0;34m\u001b[0m\u001b[0;34m\u001b[0m\u001b[0m\n\u001b[0m\u001b[1;32m   2480\u001b[0m     \u001b[0mc\u001b[0m \u001b[0;34m*=\u001b[0m \u001b[0mnp\u001b[0m\u001b[0;34m.\u001b[0m\u001b[0mtrue_divide\u001b[0m\u001b[0;34m(\u001b[0m\u001b[0;36m1\u001b[0m\u001b[0;34m,\u001b[0m \u001b[0mfact\u001b[0m\u001b[0;34m)\u001b[0m\u001b[0;34m\u001b[0m\u001b[0;34m\u001b[0m\u001b[0m\n\u001b[1;32m   2481\u001b[0m     \u001b[0;32mreturn\u001b[0m \u001b[0mc\u001b[0m\u001b[0;34m.\u001b[0m\u001b[0msqueeze\u001b[0m\u001b[0;34m(\u001b[0m\u001b[0;34m)\u001b[0m\u001b[0;34m\u001b[0m\u001b[0;34m\u001b[0m\u001b[0m\n",
      "\u001b[0;32m<__array_function__ internals>\u001b[0m in \u001b[0;36mdot\u001b[0;34m(*args, **kwargs)\u001b[0m\n",
      "\u001b[0;31mMemoryError\u001b[0m: Unable to allocate 33.0 GiB for an array with shape (66574, 66574) and data type float64"
     ]
    }
   ],
   "source": [
    "np.corrcoef(ratings_matrix.T)"
   ]
  },
  {
   "cell_type": "code",
   "execution_count": 34,
   "metadata": {},
   "outputs": [
    {
     "output_type": "error",
     "ename": "MemoryError",
     "evalue": "Unable to allocate 33.0 GiB for an array with shape (66574, 66574) and data type float64",
     "traceback": [
      "\u001b[0;31m---------------------------------------------------------------------------\u001b[0m",
      "\u001b[0;31mMemoryError\u001b[0m                               Traceback (most recent call last)",
      "\u001b[0;32m<ipython-input-34-0c5005fe31fb>\u001b[0m in \u001b[0;36m<module>\u001b[0;34m\u001b[0m\n\u001b[0;32m----> 1\u001b[0;31m \u001b[0mcosine_similarity\u001b[0m\u001b[0;34m(\u001b[0m\u001b[0mratings_matrix\u001b[0m\u001b[0;34m.\u001b[0m\u001b[0mT\u001b[0m\u001b[0;34m)\u001b[0m\u001b[0;34m\u001b[0m\u001b[0;34m\u001b[0m\u001b[0m\n\u001b[0m",
      "\u001b[0;32m~/code/book-recommendation-system/venv/lib/python3.8/site-packages/sklearn/metrics/pairwise.py\u001b[0m in \u001b[0;36mcosine_similarity\u001b[0;34m(X, Y, dense_output)\u001b[0m\n\u001b[1;32m   1186\u001b[0m         \u001b[0mY_normalized\u001b[0m \u001b[0;34m=\u001b[0m \u001b[0mnormalize\u001b[0m\u001b[0;34m(\u001b[0m\u001b[0mY\u001b[0m\u001b[0;34m,\u001b[0m \u001b[0mcopy\u001b[0m\u001b[0;34m=\u001b[0m\u001b[0;32mTrue\u001b[0m\u001b[0;34m)\u001b[0m\u001b[0;34m\u001b[0m\u001b[0;34m\u001b[0m\u001b[0m\n\u001b[1;32m   1187\u001b[0m \u001b[0;34m\u001b[0m\u001b[0m\n\u001b[0;32m-> 1188\u001b[0;31m     K = safe_sparse_dot(X_normalized, Y_normalized.T,\n\u001b[0m\u001b[1;32m   1189\u001b[0m                         dense_output=dense_output)\n\u001b[1;32m   1190\u001b[0m \u001b[0;34m\u001b[0m\u001b[0m\n",
      "\u001b[0;32m~/code/book-recommendation-system/venv/lib/python3.8/site-packages/sklearn/utils/validation.py\u001b[0m in \u001b[0;36minner_f\u001b[0;34m(*args, **kwargs)\u001b[0m\n\u001b[1;32m     61\u001b[0m             \u001b[0mextra_args\u001b[0m \u001b[0;34m=\u001b[0m \u001b[0mlen\u001b[0m\u001b[0;34m(\u001b[0m\u001b[0margs\u001b[0m\u001b[0;34m)\u001b[0m \u001b[0;34m-\u001b[0m \u001b[0mlen\u001b[0m\u001b[0;34m(\u001b[0m\u001b[0mall_args\u001b[0m\u001b[0;34m)\u001b[0m\u001b[0;34m\u001b[0m\u001b[0;34m\u001b[0m\u001b[0m\n\u001b[1;32m     62\u001b[0m             \u001b[0;32mif\u001b[0m \u001b[0mextra_args\u001b[0m \u001b[0;34m<=\u001b[0m \u001b[0;36m0\u001b[0m\u001b[0;34m:\u001b[0m\u001b[0;34m\u001b[0m\u001b[0;34m\u001b[0m\u001b[0m\n\u001b[0;32m---> 63\u001b[0;31m                 \u001b[0;32mreturn\u001b[0m \u001b[0mf\u001b[0m\u001b[0;34m(\u001b[0m\u001b[0;34m*\u001b[0m\u001b[0margs\u001b[0m\u001b[0;34m,\u001b[0m \u001b[0;34m**\u001b[0m\u001b[0mkwargs\u001b[0m\u001b[0;34m)\u001b[0m\u001b[0;34m\u001b[0m\u001b[0;34m\u001b[0m\u001b[0m\n\u001b[0m\u001b[1;32m     64\u001b[0m \u001b[0;34m\u001b[0m\u001b[0m\n\u001b[1;32m     65\u001b[0m             \u001b[0;31m# extra_args > 0\u001b[0m\u001b[0;34m\u001b[0m\u001b[0;34m\u001b[0m\u001b[0;34m\u001b[0m\u001b[0m\n",
      "\u001b[0;32m~/code/book-recommendation-system/venv/lib/python3.8/site-packages/sklearn/utils/extmath.py\u001b[0m in \u001b[0;36msafe_sparse_dot\u001b[0;34m(a, b, dense_output)\u001b[0m\n\u001b[1;32m    150\u001b[0m             \u001b[0mret\u001b[0m \u001b[0;34m=\u001b[0m \u001b[0mnp\u001b[0m\u001b[0;34m.\u001b[0m\u001b[0mdot\u001b[0m\u001b[0;34m(\u001b[0m\u001b[0ma\u001b[0m\u001b[0;34m,\u001b[0m \u001b[0mb\u001b[0m\u001b[0;34m)\u001b[0m\u001b[0;34m\u001b[0m\u001b[0;34m\u001b[0m\u001b[0m\n\u001b[1;32m    151\u001b[0m     \u001b[0;32melse\u001b[0m\u001b[0;34m:\u001b[0m\u001b[0;34m\u001b[0m\u001b[0;34m\u001b[0m\u001b[0m\n\u001b[0;32m--> 152\u001b[0;31m         \u001b[0mret\u001b[0m \u001b[0;34m=\u001b[0m \u001b[0ma\u001b[0m \u001b[0;34m@\u001b[0m \u001b[0mb\u001b[0m\u001b[0;34m\u001b[0m\u001b[0;34m\u001b[0m\u001b[0m\n\u001b[0m\u001b[1;32m    153\u001b[0m \u001b[0;34m\u001b[0m\u001b[0m\n\u001b[1;32m    154\u001b[0m     if (sparse.issparse(a) and sparse.issparse(b)\n",
      "\u001b[0;31mMemoryError\u001b[0m: Unable to allocate 33.0 GiB for an array with shape (66574, 66574) and data type float64"
     ]
    }
   ],
   "source": [
    "cosine_similarity(ratings_matrix.T)"
   ]
  }
 ]
}